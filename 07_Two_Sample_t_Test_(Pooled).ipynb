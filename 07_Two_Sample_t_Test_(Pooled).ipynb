{
  "nbformat": 4,
  "nbformat_minor": 0,
  "metadata": {
    "colab": {
      "provenance": [],
      "include_colab_link": true
    },
    "kernelspec": {
      "name": "python3",
      "display_name": "Python 3"
    },
    "language_info": {
      "name": "python"
    }
  },
  "cells": [
    {
      "cell_type": "markdown",
      "metadata": {
        "id": "view-in-github",
        "colab_type": "text"
      },
      "source": [
        "<a href=\"https://colab.research.google.com/github/Tamiim-Iqbal/Simulation-and-Modeling/blob/main/07_Two_Sample_t_Test_(Pooled).ipynb\" target=\"_parent\"><img src=\"https://colab.research.google.com/assets/colab-badge.svg\" alt=\"Open In Colab\"/></a>"
      ]
    },
    {
      "cell_type": "markdown",
      "source": [
        "# Hypothesis testing concepts: Two-Sample t-Test"
      ],
      "metadata": {
        "id": "CjwIBAelJpsx"
      }
    },
    {
      "cell_type": "markdown",
      "source": [
        "We want to determine whether there is a significant difference between the means of two independent datasets (Sample 1 and Sample 2) using a two-sample t-test. We assume equal variances."
      ],
      "metadata": {
        "id": "UpuJKnYMQ0J2"
      }
    },
    {
      "cell_type": "markdown",
      "source": [
        "## Import Necessary Libraries"
      ],
      "metadata": {
        "id": "6GovFXEHQ7kE"
      }
    },
    {
      "cell_type": "code",
      "source": [
        "import numpy as np\n",
        "import scipy.stats as stats\n",
        "import matplotlib.pyplot as plt"
      ],
      "metadata": {
        "id": "8Zh4CynrQ_X0"
      },
      "execution_count": null,
      "outputs": []
    },
    {
      "cell_type": "markdown",
      "source": [
        "## Step 1: Define the two independent datasets"
      ],
      "metadata": {
        "id": "XbQ7fNT0RC8k"
      }
    },
    {
      "cell_type": "code",
      "source": [
        "data1 = np.array([23.1, 24.3, 22.8, 23.7, 24.0, 23.5])  # Sample 1\n",
        "data2 = np.array([21.9, 22.5, 22.0, 21.8, 22.2, 21.7])  # Sample 2"
      ],
      "metadata": {
        "id": "f3CenMaGREj8"
      },
      "execution_count": null,
      "outputs": []
    },
    {
      "cell_type": "markdown",
      "source": [
        "## Step 2: Perform the two-sample t-test (pool t-test assumes equal variances)"
      ],
      "metadata": {
        "id": "iglapXLeRJti"
      }
    },
    {
      "cell_type": "code",
      "source": [
        "t_statistic, p_value = stats.ttest_ind(data1, data2, equal_var=True)"
      ],
      "metadata": {
        "id": "FaPTe4RCRMSd"
      },
      "execution_count": null,
      "outputs": []
    },
    {
      "cell_type": "markdown",
      "source": [
        "## Calculate confidence interval for the difference of means"
      ],
      "metadata": {
        "id": "2b7hi4RuRPUd"
      }
    },
    {
      "cell_type": "code",
      "source": [
        "\n",
        "\n",
        "# mean difference\n",
        "mean_diff = np.mean(data1) - np.mean(data2)\n",
        "\n",
        "# sample sizes\n",
        "n1, n2 = len(data1), len(data2)\n",
        "\n",
        "# sample variances\n",
        "s1_sq, s2_sq = np.var(data1, ddof=1), np.var(data2, ddof=1)\n",
        "\n",
        "# pooled variance\n",
        "sp_sq = ((n1 - 1) * s1_sq + (n2 - 1) * s2_sq) / (n1 + n2 - 2)\n",
        "\n",
        "# standard error using pooled variance\n",
        "std_err = np.sqrt(sp_sq * (1/n1 + 1/n2))\n",
        "\n",
        "# degrees of freedom\n",
        "df = n1 + n2 - 2\n",
        "\n",
        "# 95% confidence interval\n",
        "ci = stats.t.interval(0.95, df, loc=mean_diff, scale=std_err)"
      ],
      "metadata": {
        "id": "UgEGzbePRSs8"
      },
      "execution_count": null,
      "outputs": []
    },
    {
      "cell_type": "markdown",
      "source": [
        "## Step 3: Display results"
      ],
      "metadata": {
        "id": "VqKl2Ip6RaUs"
      }
    },
    {
      "cell_type": "code",
      "source": [
        "print(f\"Sample 1 Mean: {np.mean(data1):.2f}\")\n",
        "print(f\"Sample 2 Mean: {np.mean(data2):.2f}\")\n",
        "print(f\"t-Statistic: {t_statistic:.2f}\")\n",
        "print(f\"Degrees of Freedom: {df:.2f}\")\n",
        "print(f\"p-Value: {p_value:.4f}\")\n",
        "print(f\"Confidence Interval of Mean Difference: [{ci[0]:.2f}, {ci[1]:.2f}]\")\n"
      ],
      "metadata": {
        "colab": {
          "base_uri": "https://localhost:8080/"
        },
        "id": "22IvFXHnRcy0",
        "outputId": "e2f7615f-e345-43ab-dfa6-c946d7931a76"
      },
      "execution_count": null,
      "outputs": [
        {
          "output_type": "stream",
          "name": "stdout",
          "text": [
            "Sample 1 Mean: 23.57\n",
            "Sample 2 Mean: 22.02\n",
            "t-Statistic: 6.03\n",
            "Degrees of Freedom: 10.00\n",
            "p-Value: 0.0001\n",
            "Confidence Interval of Mean Difference: [0.98, 2.12]\n"
          ]
        }
      ]
    },
    {
      "cell_type": "markdown",
      "source": [
        "## Step 4: Conclusion"
      ],
      "metadata": {
        "id": "8LciJGE_Rf-E"
      }
    },
    {
      "cell_type": "code",
      "source": [
        "alpha = 0.05  # Significance level\n",
        "if p_value < alpha:\n",
        "    print(\"Reject the null hypothesis. The means of the two samples are significantly different.\")\n",
        "else:\n",
        "    print(\"Fail to reject the null hypothesis. The means of the two samples are not significantly different.\")"
      ],
      "metadata": {
        "colab": {
          "base_uri": "https://localhost:8080/"
        },
        "id": "PIESuJAiRjPM",
        "outputId": "4d72c461-edcf-42b5-cbce-46ce11a8a2a8"
      },
      "execution_count": null,
      "outputs": [
        {
          "output_type": "stream",
          "name": "stdout",
          "text": [
            "Reject the null hypothesis. The means of the two samples are significantly different.\n"
          ]
        }
      ]
    },
    {
      "cell_type": "markdown",
      "source": [
        "## Step 5: Visualize the data"
      ],
      "metadata": {
        "id": "wJ1lyHunRmrs"
      }
    },
    {
      "cell_type": "code",
      "source": [
        "plt.figure(figsize=(6, 4))\n",
        "plt.bar(['Sample 1', 'Sample 2'], [np.mean(data1), np.mean(data2)], color=['blue', 'green'], alpha=0.7)\n",
        "plt.errorbar(['Sample 1', 'Sample 2'], [np.mean(data1), np.mean(data2)], yerr=[np.std(data1, ddof=1), np.std(data2, ddof=1)], fmt='k_', capsize=5)\n",
        "plt.title('Comparison of Sample Means')\n",
        "plt.ylabel('Mean Value')\n",
        "plt.grid(True)\n",
        "plt.show()"
      ],
      "metadata": {
        "colab": {
          "base_uri": "https://localhost:8080/",
          "height": 391
        },
        "id": "UEIuDMHcRoBU",
        "outputId": "5ce284bf-720b-43dd-8869-fd33b41c22c6"
      },
      "execution_count": null,
      "outputs": [
        {
          "output_type": "display_data",
          "data": {
            "text/plain": [
              "<Figure size 600x400 with 1 Axes>"
            ],
            "image/png": "[encoded data removed]"
          },
          "metadata": {}
        }
      ]
    },
    {
      "cell_type": "markdown",
      "source": [
        "### **Explanation of the Python Code (Line by Line)**  \n",
        "\n",
        "This script performs a **two-sample t-test** using Python’s `scipy.stats` and visualizes the results using `matplotlib`.  \n",
        "\n",
        "---\n",
        "\n",
        "### **1. Importing Required Libraries**\n",
        "```python\n",
        "import numpy as np\n",
        "from scipy import stats\n",
        "import matplotlib.pyplot as plt\n",
        "```\n",
        "- `import numpy as np` → Imports **NumPy**, a library for numerical computations and array operations.  \n",
        "- `from scipy import stats` → Imports the `stats` module from **SciPy**, which provides statistical functions.  \n",
        "- `import matplotlib.pyplot as plt` → Imports **Matplotlib**, a library for creating plots and graphs.\n",
        "\n",
        "---\n",
        "\n",
        "### **2. Defining Two Independent Datasets**\n",
        "```python\n",
        "data1 = np.array([23.1, 24.3, 22.8, 23.7, 24.0, 23.5])  # Sample 1\n",
        "data2 = np.array([21.9, 22.5, 22.0, 21.8, 22.2, 21.7])  # Sample 2\n",
        "```\n",
        "- `np.array([...])` → Creates NumPy arrays to store the numerical data.  \n",
        "- These arrays represent two **independent samples** (e.g., test scores from two different groups).\n",
        "\n",
        "---\n",
        "\n",
        "### **3. Performing the Two-Sample t-Test**\n",
        "```python\n",
        "# Use equal_var=False for Welch's t-test (unequal variances assumption)\n",
        "t_stat, p_value = stats.ttest_ind(data1, data2, equal_var=False)\n",
        "```\n",
        "- `stats.ttest_ind()` → Performs a **two-sample t-test** to compare the means of `data1` and `data2`.  \n",
        "- `equal_var=False` → Specifies **Welch’s t-test**, which does **not assume equal variances**.  \n",
        "- **Outputs:**\n",
        "  - `t_stat` → **t-statistic**, which measures the difference between means in standard error units.\n",
        "  - `p_value` → **p-value**, which indicates the probability of observing the data under the null hypothesis.\n",
        "\n",
        "---\n",
        "\n",
        "### **4. Displaying the Results**\n",
        "```python\n",
        "print(f'Sample 1 Mean: {np.mean(data1):.2f}')\n",
        "print(f'Sample 2 Mean: {np.mean(data2):.2f}')\n",
        "print(f't-Statistic: {t_stat:.2f}')\n",
        "print(f'p-Value: {p_value:.4f}')\n",
        "```\n",
        "- `np.mean(data1)` → Computes the **mean** of `data1`.  \n",
        "- `np.mean(data2)` → Computes the **mean** of `data2`.  \n",
        "- `t_stat:.2f` → Prints the **t-statistic**, rounded to **two decimal places**.  \n",
        "- `p_value:.4f` → Prints the **p-value**, rounded to **four decimal places**.  \n",
        "- **Formatted string literals (f-strings)** are used to format and display the results.\n",
        "\n",
        "---\n",
        "\n",
        "### **5. Making a Decision Based on p-Value**\n",
        "```python\n",
        "alpha = 0.05  # Significance level\n",
        "if p_value < alpha:\n",
        "    print('Reject the null hypothesis. The means of the two samples are significantly different.')\n",
        "else:\n",
        "    print('Fail to reject the null hypothesis. The means of the two samples are not significantly different.')\n",
        "```\n",
        "- **Significance level (α)** is set to **0.05** (5%).  \n",
        "- If `p_value < 0.05`, the script **rejects the null hypothesis**, meaning there is a **significant difference** between the two sample means.  \n",
        "- Otherwise, it **fails to reject** the null hypothesis, indicating that the means **are not significantly different**.\n",
        "\n",
        "---\n",
        "\n",
        "### **6. Visualizing the Data**\n",
        "```python\n",
        "plt.figure(figsize=(6, 4))  # Set the figure size\n",
        "plt.bar([\"Sample 1\", \"Sample 2\"], [np.mean(data1), np.mean(data2)], color=['blue', 'orange'], alpha=0.7)\n",
        "plt.errorbar([0, 1], [np.mean(data1), np.mean(data2)], yerr=[np.std(data1), np.std(data2)], fmt='k_', capsize=10)\n",
        "plt.title('Comparison of Sample Means')\n",
        "plt.ylabel('Mean Value')\n",
        "plt.grid(True)\n",
        "plt.show()\n",
        "```\n",
        "- `plt.figure(figsize=(6, 4))` → Creates a **figure** with dimensions **6x4 inches**.  \n",
        "- `plt.bar([...], [...])` → **Creates a bar chart** to visualize the mean values.  \n",
        "  - The first list `[\"Sample 1\", \"Sample 2\"]` defines the **x-axis labels**.  \n",
        "  - The second list `[np.mean(data1), np.mean(data2)]` represents the **heights** of the bars.  \n",
        "  - `color=['blue', 'orange']` assigns **colors** to the bars.  \n",
        "  - `alpha=0.7` makes the bars slightly transparent.  \n",
        "- `plt.errorbar([...], [...], yerr=[...])` → **Adds error bars** to show variability.  \n",
        "  - `[0, 1]` are the **x-axis positions** of the bars.  \n",
        "  - `[np.mean(data1), np.mean(data2)]` are the **y-values** (means).  \n",
        "  - `yerr=[np.std(data1), np.std(data2)]` sets **error bars** as standard deviations.  \n",
        "  - `fmt='k_'` specifies the error bars in **black** (`'k'`).  \n",
        "  - `capsize=10` adds small horizontal **caps** on top of the error bars.  \n",
        "- `plt.title('Comparison of Sample Means')` → Adds a **title**.  \n",
        "- `plt.ylabel('Mean Value')` → Labels the **y-axis**.  \n",
        "- `plt.grid(True)` → Adds a **grid** to the background.  \n",
        "- `plt.show()` → Displays the **plot**.\n",
        "\n",
        "---\n",
        "\n",
        "### **Final Summary**\n",
        "- This script compares two independent datasets using a **two-sample t-test**.  \n",
        "- It calculates:\n",
        "  - **Mean values** of both datasets.  \n",
        "  - **t-statistic** and **p-value**.  \n",
        "  - **Decision on hypothesis testing** (reject or fail to reject).  \n",
        "- Finally, it **visualizes the results** using a bar chart with **error bars**.\n"
      ],
      "metadata": {
        "id": "F95UcnDPCkfK"
      }
    },
    {
      "cell_type": "markdown",
      "source": [
        "\n",
        "\n",
        "---\n",
        "\n",
        "## Problem Statement\n",
        "\n",
        "**Perform a two-sample t-test on the following data:**\n",
        "\n",
        "* **Data 1:** \\[18.4, 19.1, 17.9, 18.7, 18.3]\n",
        "* **Data 2:** \\[20.2, 20.5, 20.1, 20.3, 20.4]\n",
        "\n",
        "Use significance level **α = 0.05** to determine whether the population means differ.\n",
        "\n",
        "### Tasks\n",
        "\n",
        "1. State $H_0$ and $H_1$. Specify whether you will assume **equal variances** (pooled) or **unequal variances** (Welch), and **justify your choice in one sentence**.\n",
        "2. Compute the **sample means**, **sample variances (ddof = 1)**, and the **mean difference**.\n",
        "3. Calculate the **t-statistic**, **degrees of freedom**, and the **two-tailed p-value**.\n",
        "4. Construct the **95% confidence interval** for the mean difference.\n",
        "5. **Decision & Interpretation:** Conclude (reject / fail to reject $H_0$) and explain the result **in one or two plain-English sentences**.\n",
        "\n",
        "> **Hint:** If you assume equal variances, use the pooled standard error. If you assume unequal variances, use Welch’s standard error and df.\n",
        "\n",
        "---\n",
        "\n",
        "\n"
      ],
      "metadata": {
        "id": "isTJJjIqEVMq"
      }
    },
    {
      "cell_type": "code",
      "source": [
        "#Homework: Welch t test"
      ],
      "metadata": {
        "id": "M-V9U2neml5J"
      },
      "execution_count": null,
      "outputs": []
    }
  ]
}